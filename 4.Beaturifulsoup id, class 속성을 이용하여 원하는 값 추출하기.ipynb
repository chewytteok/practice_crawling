{
 "cells": [
  {
   "cell_type": "markdown",
   "metadata": {},
   "source": [
    "- BeautifulSoup 모듈 사용하기\n",
    "- id, class 속성으로 tag 찾기\n",
    "- CSS를 이용하여 tag 찾기\n",
    "- 속성 값으로 tag 찾기\n",
    "- 정규표현식으로 tag 찾기\n",
    "- 개발자도구를 이용하여 동적으로 로딩되는 데이터 추출하기"
   ]
  },
  {
   "cell_type": "code",
   "execution_count": 1,
   "metadata": {},
   "outputs": [],
   "source": [
    "import requests\n",
    "from bs4 import BeautifulSoup"
   ]
  },
  {
   "cell_type": "markdown",
   "metadata": {},
   "source": [
    "### 다음 뉴스 데이터 추출하는 방법\n",
    "- 뉴스기사에서 제목, 작성자, 작성일, 댓글 개수 추출\n",
    "- https://news.v.daum.net/v/20190728165812603\n",
    "- tag를 추출할때는 가장 그 tag를 쉽게 특정할 수 있는 속성을 사용\n",
    "    - id의 경우 원칙적으로 한 html 문서 내에서 유일"
   ]
  },
  {
   "cell_type": "code",
   "execution_count": 2,
   "metadata": {},
   "outputs": [
    {
     "data": {
      "text/plain": [
       "'일론머스크 \"테슬라에서 넷플릭스·유튜브 즐길 날 온다\"'"
      ]
     },
     "execution_count": 2,
     "metadata": {},
     "output_type": "execute_result"
    }
   ],
   "source": [
    "url = 'https://news.v.daum.net/v/20190728165812603'\n",
    "resp = requests.get(url)\n",
    "\n",
    "soup = BeautifulSoup(resp.text)\n",
    "# 개발자 도구 f12 누른 후 맨 위 왼쪽에 마우스모양 클릭 title에 위치하는 부분 선택\n",
    "title = soup.find('h3', class_='tit_view')\n",
    "title.get_text()\n",
    "\n"
   ]
  },
  {
   "cell_type": "markdown",
   "metadata": {},
   "source": [
    "- id, class 속성으로 tag 찾기\n",
    "    - 타이틀\n",
    "    - 작성자, 작성일"
   ]
  },
  {
   "cell_type": "code",
   "execution_count": 3,
   "metadata": {},
   "outputs": [
    {
     "name": "stdout",
     "output_type": "stream",
     "text": [
      "이민우 입력 2019.07.28. 16:58\n"
     ]
    }
   ],
   "source": [
    "url = 'https://news.v.daum.net/v/20190728165812603'\n",
    "resp = requests.get(url)\n",
    "\n",
    "soup = BeautifulSoup(resp.text)\n",
    "\n",
    "name = soup.find_all('span', class_='txt_info')[0]\n",
    "date = soup.find_all('span', class_='txt_info')[1]\n",
    "print(name.get_text(), date.get_text())"
   ]
  },
  {
   "cell_type": "code",
   "execution_count": 4,
   "metadata": {},
   "outputs": [
    {
     "data": {
      "text/plain": [
       "<span class=\"txt_info\">이민우</span>"
      ]
     },
     "execution_count": 4,
     "metadata": {},
     "output_type": "execute_result"
    }
   ],
   "source": [
    "# 데이터가 많을 때 찾고자하는 것을 찾을 경우\n",
    "url = 'https://news.v.daum.net/v/20190728165812603'\n",
    "resp = requests.get(url)\n",
    "\n",
    "soup = BeautifulSoup(resp.text)\n",
    "\n",
    "info = soup.find('span', class_='info_view')\n",
    "# info\n",
    "info.find('span',class_= 'txt_info')"
   ]
  },
  {
   "cell_type": "code",
   "execution_count": 5,
   "metadata": {},
   "outputs": [
    {
     "data": {
      "text/plain": [
       "'[아시아경제 이민우 기자] 일론 머스크 테슬라 최고경영자(CEO)가 자사 전기 자동차 모델에 넷플릭스와 유튜브 등 온라인동영상서비스(OTT)를 탑재할 것이라고 예고했다. 단순히 자율 주행 전기차가 단순히 주행을 위한 정보를 알려주는 것을 넘어 각종 영상 콘텐츠를 즐기는 공간으로도 확장하겠다는 전략으로 풀이된다.27일(현지시간) 더버지 등 주요 외신들에 따르면 머스크 CEO는 자신의 트위터를 통해 이 같은 계획을 밝혔다. 그는 \"자동차가 정차했을 때 넷플릭스와 유튜브를 감상할 수 있는 기능이 조만간 추가될 것\"이라며 \"편안한 좌석과 서라운드 사운드 오디오를 통해 영화관과 같은 느낌을 받을 수 있을 것\"이라고 강조했다.테슬라가 이처럼 콘텐츠 방면으로 확장하려 든 것은 이번이 처음이 아니다. 지난달 세계 최대 게임쇼 E3에서는 이미 운전자가 \\'폴아웃 쉘터\\'라는 게임을 할 수 있을 것이라고 발표한 바 있다. 이후에도 최근 게임업체 아타리사(社)의 자동차 경주 게임 ‘폴포지션’, 슈팅게임 ‘템페스트’, ‘미사일커맨드’ 등 고전 게임을 제공하기도 했다. 운전대로 게임을 조작하는 방식으로, 차가 주차돼 있을 경우에만 즐길 수 있다.이번 영상 콘텐츠는 주행 중에도 감상할 수 있도록 하는 방안을 고려하고 있다. 테슬라 측은 규제당국이 자율주행에 대해 완전히 승인하면 차량이 움직일 때에도 승객이 동영상을 즐길 수 있을 것이라고 설명했다.하지만 아직까지 자율주행차의 안전에 대한 우려는 완전히 걷혀지지 않은 상황이다. 지난 2017년 차량공유 서비스 우버의 자율주행 시범차량이 보행자와 충돌한 사고가 발생한 바 있다. 게다가 당시 시험 운전자는 디즈니의 동영상 스트리밍 서비스인 \\'훌루\\'를 이용하고 있던 것으로 밝혀졌다.이민우 기자 letzwin@asiae.co.kr'"
      ]
     },
     "execution_count": 5,
     "metadata": {},
     "output_type": "execute_result"
    }
   ],
   "source": [
    "#원하는 태그의 내용만 갖고 오는 방법\n",
    "url = 'https://news.v.daum.net/v/20190728165812603'\n",
    "resp = requests.get(url)\n",
    "\n",
    "soup = BeautifulSoup(resp.text)\n",
    "\n",
    "container = soup.find('div', id= 'harmonyContainer')\n",
    "contents = ''\n",
    "for p in container.find_all('p'):\n",
    "    contents += p.get_text().strip()\n",
    "    \n",
    "contents"
   ]
  },
  {
   "cell_type": "markdown",
   "metadata": {},
   "source": [
    "- CSS를 이용하여 tag 찾기\n",
    "    - select, select_one 함수 사용\n",
    "    - css selector 사용방법\n",
    "        - 태그명 찾기 tag\n",
    "        - 자손 태그 찾기 - 자손관계(tag tag)\n",
    "        - 자손 태그 찾기 - 다이렉트 자식 관계(tag > tag)\n",
    "        - 아이디 찾기 #id\n",
    "        - 클래스 찾기 .class\n",
    "        - 속성값 찾기 [name = 'test']\n",
    "            - 속성값 prefix 찾기 [name ^='test']\n",
    "            - 속성값 suffix 찾기 [name $='test']\n",
    "            - 속성값 substring 찾기 [name *='test']\n",
    "        - n번째 자식 tag 찾기 : nth_chid(n)"
   ]
  },
  {
   "cell_type": "code",
   "execution_count": 6,
   "metadata": {},
   "outputs": [
    {
     "data": {
      "text/plain": [
       "[<h3 class=\"tit_view\" data-translation=\"true\">일론머스크 \"테슬라에서 넷플릭스·유튜브 즐길 날 온다\"</h3>,\n",
       " <h3 class=\"txt_newsview\">많이본 뉴스</h3>,\n",
       " <h3 class=\"txt_newsview\">포토&amp;TV</h3>,\n",
       " <h3 class=\"txt_newsview\">실시간 주요이슈</h3>]"
      ]
     },
     "execution_count": 6,
     "metadata": {},
     "output_type": "execute_result"
    }
   ],
   "source": [
    "url = 'https://news.v.daum.net/v/20190728165812603'\n",
    "resp = requests.get(url)\n",
    "\n",
    "soup = BeautifulSoup(resp.text)\n",
    "\n",
    "soup.select('h3')"
   ]
  },
  {
   "cell_type": "code",
   "execution_count": 7,
   "metadata": {},
   "outputs": [
    {
     "data": {
      "text/plain": [
       "[<p class=\"link_figure\"><img alt=\"일론 머스크 테슬라 최고경영자(CEO) [이미지출처=로이터연합뉴스]\" class=\"thumb_g_article\" data-org-src=\"https://t1.daumcdn.net/news/201907/28/akn/20190728165813230vjsq.jpg\" data-org-width=\"550\" dmcf-mid=\"NBMY3ZZhN4\" dmcf-mtype=\"image\" height=\"auto\" src=\"https://img3.daumcdn.net/thumb/R658x0.q70/?fname=https://t1.daumcdn.net/news/201907/28/akn/20190728165813230vjsq.jpg\" width=\"658\"/></p>,\n",
       " <p>[아시아경제 이민우 기자] 일론 머스크 테슬라 최고경영자(CEO)가 자사 전기 자동차 모델에 넷플릭스와 유튜브 등 온라인동영상서비스(OTT)를 탑재할 것이라고 예고했다. 단순히 자율 주행 전기차가 단순히 주행을 위한 정보를 알려주는 것을 넘어 각종 영상 콘텐츠를 즐기는 공간으로도 확장하겠다는 전략으로 풀이된다.</p>,\n",
       " <p>27일(현지시간) 더버지 등 주요 외신들에 따르면 머스크 CEO는 자신의 트위터를 통해 이 같은 계획을 밝혔다. 그는 \"자동차가 정차했을 때 넷플릭스와 유튜브를 감상할 수 있는 기능이 조만간 추가될 것\"이라며 \"편안한 좌석과 서라운드 사운드 오디오를 통해 영화관과 같은 느낌을 받을 수 있을 것\"이라고 강조했다.</p>,\n",
       " <p class=\"link_figure\"><img alt=\"(출처=일론 머스크 트위터 계정 캡쳐)\" class=\"thumb_g_article\" data-org-src=\"https://t1.daumcdn.net/news/201907/28/akn/20190728165813670hwxf.png\" data-org-width=\"550\" dmcf-mid=\"NRhnb5SRpx\" dmcf-mtype=\"image\" height=\"auto\" src=\"https://img2.daumcdn.net/thumb/R658x0.q70/?fname=https://t1.daumcdn.net/news/201907/28/akn/20190728165813670hwxf.png\" width=\"658\"/></p>,\n",
       " <p>테슬라가 이처럼 콘텐츠 방면으로 확장하려 든 것은 이번이 처음이 아니다. 지난달 세계 최대 게임쇼 E3에서는 이미 운전자가 '폴아웃 쉘터'라는 게임을 할 수 있을 것이라고 발표한 바 있다. 이후에도 최근 게임업체 아타리사(社)의 자동차 경주 게임 ‘폴포지션’, 슈팅게임 ‘템페스트’, ‘미사일커맨드’ 등 고전 게임을 제공하기도 했다. 운전대로 게임을 조작하는 방식으로, 차가 주차돼 있을 경우에만 즐길 수 있다.</p>,\n",
       " <p>이번 영상 콘텐츠는 주행 중에도 감상할 수 있도록 하는 방안을 고려하고 있다. 테슬라 측은 규제당국이 자율주행에 대해 완전히 승인하면 차량이 움직일 때에도 승객이 동영상을 즐길 수 있을 것이라고 설명했다.</p>,\n",
       " <p>하지만 아직까지 자율주행차의 안전에 대한 우려는 완전히 걷혀지지 않은 상황이다. 지난 2017년 차량공유 서비스 우버의 자율주행 시범차량이 보행자와 충돌한 사고가 발생한 바 있다. 게다가 당시 시험 운전자는 디즈니의 동영상 스트리밍 서비스인 '훌루'를 이용하고 있던 것으로 밝혀졌다.</p>,\n",
       " <p dmcf-pid=\"NUOWg8Qxyd\" dmcf-ptype=\"general\">이민우 기자 letzwin@asiae.co.kr</p>]"
      ]
     },
     "execution_count": 7,
     "metadata": {},
     "output_type": "execute_result"
    }
   ],
   "source": [
    "soup.select('#harmonyContainer P')"
   ]
  },
  {
   "cell_type": "code",
   "execution_count": 8,
   "metadata": {},
   "outputs": [
    {
     "data": {
      "text/plain": [
       "[]"
      ]
     },
     "execution_count": 8,
     "metadata": {},
     "output_type": "execute_result"
    }
   ],
   "source": [
    "#자식에 포함된 내용 가져오기\n",
    "soup.select('#harmonyContainer > P')"
   ]
  },
  {
   "cell_type": "code",
   "execution_count": 9,
   "metadata": {},
   "outputs": [
    {
     "data": {
      "text/plain": [
       "[<h3 class=\"tit_view\" data-translation=\"true\">일론머스크 \"테슬라에서 넷플릭스·유튜브 즐길 날 온다\"</h3>]"
      ]
     },
     "execution_count": 9,
     "metadata": {},
     "output_type": "execute_result"
    }
   ],
   "source": [
    "soup.select('h3.tit_view')"
   ]
  },
  {
   "cell_type": "code",
   "execution_count": 10,
   "metadata": {},
   "outputs": [
    {
     "data": {
      "text/plain": [
       "[<h3 class=\"tit_view\" data-translation=\"true\">일론머스크 \"테슬라에서 넷플릭스·유튜브 즐길 날 온다\"</h3>]"
      ]
     },
     "execution_count": 10,
     "metadata": {},
     "output_type": "execute_result"
    }
   ],
   "source": [
    "# tag 관련없이 tit_view만 가져오기\n",
    "soup.select('.tit_view')"
   ]
  },
  {
   "cell_type": "code",
   "execution_count": 11,
   "metadata": {},
   "outputs": [
    {
     "data": {
      "text/plain": [
       "[<h3 class=\"tit_view\" data-translation=\"true\">일론머스크 \"테슬라에서 넷플릭스·유튜브 즐길 날 온다\"</h3>]"
      ]
     },
     "execution_count": 11,
     "metadata": {},
     "output_type": "execute_result"
    }
   ],
   "source": [
    "# 속성 값 찾기\n",
    "soup.select('h3[class=\"tit_view\"]')"
   ]
  },
  {
   "cell_type": "code",
   "execution_count": 12,
   "metadata": {},
   "outputs": [
    {
     "data": {
      "text/plain": [
       "[<h3 class=\"tit_view\" data-translation=\"true\">일론머스크 \"테슬라에서 넷플릭스·유튜브 즐길 날 온다\"</h3>,\n",
       " <h3 class=\"txt_newsview\">많이본 뉴스</h3>,\n",
       " <h3 class=\"txt_newsview\">포토&amp;TV</h3>,\n",
       " <h3 class=\"txt_newsview\">실시간 주요이슈</h3>]"
      ]
     },
     "execution_count": 12,
     "metadata": {},
     "output_type": "execute_result"
    }
   ],
   "source": [
    "# t로 시작하는 속성을 갖는 값을 가져오는 방법\n",
    "soup.select('h3[class^=\"t\"]')"
   ]
  },
  {
   "cell_type": "code",
   "execution_count": 13,
   "metadata": {},
   "outputs": [
    {
     "data": {
      "text/plain": [
       "[<h3 class=\"tit_view\" data-translation=\"true\">일론머스크 \"테슬라에서 넷플릭스·유튜브 즐길 날 온다\"</h3>,\n",
       " <h3 class=\"txt_newsview\">많이본 뉴스</h3>,\n",
       " <h3 class=\"txt_newsview\">포토&amp;TV</h3>,\n",
       " <h3 class=\"txt_newsview\">실시간 주요이슈</h3>]"
      ]
     },
     "execution_count": 13,
     "metadata": {},
     "output_type": "execute_result"
    }
   ],
   "source": [
    "# view로 끝나는 속성을 갖는 값을 가져오는 방법\n",
    "soup.select('h3[class$=\"view\"]')"
   ]
  },
  {
   "cell_type": "code",
   "execution_count": 14,
   "metadata": {},
   "outputs": [
    {
     "data": {
      "text/plain": [
       "[<h3 class=\"tit_view\" data-translation=\"true\">일론머스크 \"테슬라에서 넷플릭스·유튜브 즐길 날 온다\"</h3>]"
      ]
     },
     "execution_count": 14,
     "metadata": {},
     "output_type": "execute_result"
    }
   ],
   "source": [
    "# 첫번째 값만 가져오는 방법\n",
    "soup.select('h3[class$=\"_view\"]')"
   ]
  },
  {
   "cell_type": "code",
   "execution_count": 15,
   "metadata": {},
   "outputs": [
    {
     "data": {
      "text/plain": [
       "[<h3 class=\"tit_view\" data-translation=\"true\">일론머스크 \"테슬라에서 넷플릭스·유튜브 즐길 날 온다\"</h3>,\n",
       " <h3 class=\"txt_newsview\">많이본 뉴스</h3>,\n",
       " <h3 class=\"txt_newsview\">포토&amp;TV</h3>,\n",
       " <h3 class=\"txt_newsview\">실시간 주요이슈</h3>]"
      ]
     },
     "execution_count": 15,
     "metadata": {},
     "output_type": "execute_result"
    }
   ],
   "source": [
    "# all\n",
    "soup.select('h3[class*=\"_\"]')"
   ]
  },
  {
   "cell_type": "code",
   "execution_count": 16,
   "metadata": {},
   "outputs": [
    {
     "data": {
      "text/plain": [
       "[<span class=\"txt_info\">이민우</span>,\n",
       " <span class=\"txt_info\">입력 <span class=\"num_date\">2019.07.28. 16:58</span></span>]"
      ]
     },
     "execution_count": 16,
     "metadata": {},
     "output_type": "execute_result"
    }
   ],
   "source": [
    "# 기자와 입력 시간 가져오기\n",
    "soup.select('span.txt_info')"
   ]
  },
  {
   "cell_type": "code",
   "execution_count": 17,
   "metadata": {},
   "outputs": [
    {
     "data": {
      "text/plain": [
       "[<span class=\"txt_info\">이민우</span>]"
      ]
     },
     "execution_count": 17,
     "metadata": {},
     "output_type": "execute_result"
    }
   ],
   "source": [
    "soup.select('span.txt_info:nth-child(1)')"
   ]
  },
  {
   "cell_type": "code",
   "execution_count": 18,
   "metadata": {},
   "outputs": [
    {
     "data": {
      "text/plain": [
       "[<span class=\"txt_info\">입력 <span class=\"num_date\">2019.07.28. 16:58</span></span>]"
      ]
     },
     "execution_count": 18,
     "metadata": {},
     "output_type": "execute_result"
    }
   ],
   "source": [
    "soup.select('span.txt_info:nth-child(2)')"
   ]
  },
  {
   "cell_type": "markdown",
   "metadata": {},
   "source": [
    "- 정규표현식으로 tag 찾기\n",
    "    - 타이틀\n",
    "    - 작성자, 작성일"
   ]
  },
  {
   "cell_type": "code",
   "execution_count": 19,
   "metadata": {},
   "outputs": [],
   "source": [
    "import re"
   ]
  },
  {
   "cell_type": "code",
   "execution_count": 20,
   "metadata": {},
   "outputs": [
    {
     "data": {
      "text/plain": [
       "[<h1> <a class=\"link_daum\" href=\"https://www.daum.net\"> <img alt=\"Daum\" class=\"thumb_g\" height=\"19\" src=\"//t1.daumcdn.net/media/news/news2016/retina/logo_daum.jpg\" width=\"45\"/> </a> <a href=\"https://news.daum.net\" id=\"kakaoServiceLogo\"><span class=\"ir_wa\">뉴스</span></a> </h1>]"
      ]
     },
     "execution_count": 20,
     "metadata": {},
     "output_type": "execute_result"
    }
   ],
   "source": [
    "soup.find_all('h1')"
   ]
  },
  {
   "cell_type": "code",
   "execution_count": 21,
   "metadata": {
    "scrolled": true
   },
   "outputs": [
    {
     "data": {
      "text/plain": [
       "[<h1> <a class=\"link_daum\" href=\"https://www.daum.net\"> <img alt=\"Daum\" class=\"thumb_g\" height=\"19\" src=\"//t1.daumcdn.net/media/news/news2016/retina/logo_daum.jpg\" width=\"45\"/> </a> <a href=\"https://news.daum.net\" id=\"kakaoServiceLogo\"><span class=\"ir_wa\">뉴스</span></a> </h1>,\n",
       " <h2 class=\"screen_out\">검색</h2>,\n",
       " <h2 class=\"screen_out\">뉴스 메인메뉴</h2>,\n",
       " <h2 class=\"screen_out\" id=\"kakaoBody\">IT</h2>,\n",
       " <h3 class=\"tit_view\" data-translation=\"true\">일론머스크 \"테슬라에서 넷플릭스·유튜브 즐길 날 온다\"</h3>,\n",
       " <h3 class=\"txt_newsview\">많이본 뉴스</h3>,\n",
       " <h3 class=\"txt_newsview\">포토&amp;TV</h3>,\n",
       " <h3 class=\"txt_newsview\">실시간 주요이슈</h3>,\n",
       " <h2 class=\"tit_direct\">바로가기</h2>,\n",
       " <h2 class=\"screen_out\">서비스 이용정보</h2>]"
      ]
     },
     "execution_count": 21,
     "metadata": {},
     "output_type": "execute_result"
    }
   ],
   "source": [
    "soup.find_all(re.compile('h\\d'))"
   ]
  },
  {
   "cell_type": "code",
   "execution_count": 23,
   "metadata": {
    "scrolled": true
   },
   "outputs": [
    {
     "data": {
      "text/plain": [
       "[<img alt=\"Daum\" class=\"thumb_g\" height=\"19\" src=\"//t1.daumcdn.net/media/news/news2016/retina/logo_daum.jpg\" width=\"45\"/>,\n",
       " <img alt=\"아시아경제\" class=\"thumb_g\" src=\"https://t1.daumcdn.net/media/news/news2016/cp/cp_akn.gif\"/>,\n",
       " <img alt=\"일론 머스크 테슬라 최고경영자(CEO) [이미지출처=로이터연합뉴스]\" class=\"thumb_g_article\" data-org-src=\"https://t1.daumcdn.net/news/201907/28/akn/20190728165813230vjsq.jpg\" data-org-width=\"550\" dmcf-mid=\"NBMY3ZZhN4\" dmcf-mtype=\"image\" height=\"auto\" src=\"https://img3.daumcdn.net/thumb/R658x0.q70/?fname=https://t1.daumcdn.net/news/201907/28/akn/20190728165813230vjsq.jpg\" width=\"658\"/>,\n",
       " <img alt=\"(출처=일론 머스크 트위터 계정 캡쳐)\" class=\"thumb_g_article\" data-org-src=\"https://t1.daumcdn.net/news/201907/28/akn/20190728165813670hwxf.png\" data-org-width=\"550\" dmcf-mid=\"NRhnb5SRpx\" dmcf-mtype=\"image\" height=\"auto\" src=\"https://img2.daumcdn.net/thumb/R658x0.q70/?fname=https://t1.daumcdn.net/news/201907/28/akn/20190728165813670hwxf.png\" width=\"658\"/>]"
      ]
     },
     "execution_count": 23,
     "metadata": {},
     "output_type": "execute_result"
    }
   ],
   "source": [
    "soup.find_all('img')\n",
    "# img의 형식이 다름"
   ]
  },
  {
   "cell_type": "code",
   "execution_count": 26,
   "metadata": {
    "scrolled": true
   },
   "outputs": [
    {
     "data": {
      "text/plain": [
       "[<img alt=\"Daum\" class=\"thumb_g\" height=\"19\" src=\"//t1.daumcdn.net/media/news/news2016/retina/logo_daum.jpg\" width=\"45\"/>,\n",
       " <img alt=\"일론 머스크 테슬라 최고경영자(CEO) [이미지출처=로이터연합뉴스]\" class=\"thumb_g_article\" data-org-src=\"https://t1.daumcdn.net/news/201907/28/akn/20190728165813230vjsq.jpg\" data-org-width=\"550\" dmcf-mid=\"NBMY3ZZhN4\" dmcf-mtype=\"image\" height=\"auto\" src=\"https://img3.daumcdn.net/thumb/R658x0.q70/?fname=https://t1.daumcdn.net/news/201907/28/akn/20190728165813230vjsq.jpg\" width=\"658\"/>]"
      ]
     },
     "execution_count": 26,
     "metadata": {},
     "output_type": "execute_result"
    }
   ],
   "source": [
    "soup.find_all('img', attrs={'src': re.compile('.+\\.jpg')})"
   ]
  },
  {
   "cell_type": "code",
   "execution_count": 28,
   "metadata": {},
   "outputs": [
    {
     "data": {
      "text/plain": [
       "[<img alt=\"아시아경제\" class=\"thumb_g\" src=\"https://t1.daumcdn.net/media/news/news2016/cp/cp_akn.gif\"/>]"
      ]
     },
     "execution_count": 28,
     "metadata": {},
     "output_type": "execute_result"
    }
   ],
   "source": [
    "soup.find_all('img', attrs={'src': re.compile('.+\\.gif')})"
   ]
  },
  {
   "cell_type": "code",
   "execution_count": 29,
   "metadata": {
    "scrolled": true
   },
   "outputs": [
    {
     "data": {
      "text/plain": [
       "[<img alt=\"(출처=일론 머스크 트위터 계정 캡쳐)\" class=\"thumb_g_article\" data-org-src=\"https://t1.daumcdn.net/news/201907/28/akn/20190728165813670hwxf.png\" data-org-width=\"550\" dmcf-mid=\"NRhnb5SRpx\" dmcf-mtype=\"image\" height=\"auto\" src=\"https://img2.daumcdn.net/thumb/R658x0.q70/?fname=https://t1.daumcdn.net/news/201907/28/akn/20190728165813670hwxf.png\" width=\"658\"/>]"
      ]
     },
     "execution_count": 29,
     "metadata": {},
     "output_type": "execute_result"
    }
   ],
   "source": [
    "soup.find_all('img', attrs={'src': re.compile('.+\\.png')})"
   ]
  },
  {
   "cell_type": "code",
   "execution_count": 31,
   "metadata": {
    "scrolled": true
   },
   "outputs": [
    {
     "data": {
      "text/plain": [
       "[<h3 class=\"tit_view\" data-translation=\"true\">일론머스크 \"테슬라에서 넷플릭스·유튜브 즐길 날 온다\"</h3>,\n",
       " <h3 class=\"txt_newsview\">많이본 뉴스</h3>,\n",
       " <h3 class=\"txt_newsview\">포토&amp;TV</h3>,\n",
       " <h3 class=\"txt_newsview\">실시간 주요이슈</h3>]"
      ]
     },
     "execution_count": 31,
     "metadata": {},
     "output_type": "execute_result"
    }
   ],
   "source": [
    "soup.find_all('h3', class_=re.compile('.+view'))"
   ]
  },
  {
   "cell_type": "code",
   "execution_count": 33,
   "metadata": {
    "scrolled": true
   },
   "outputs": [
    {
     "data": {
      "text/plain": [
       "[<h3 class=\"txt_newsview\">많이본 뉴스</h3>,\n",
       " <h3 class=\"txt_newsview\">포토&amp;TV</h3>,\n",
       " <h3 class=\"txt_newsview\">실시간 주요이슈</h3>]"
      ]
     },
     "execution_count": 33,
     "metadata": {},
     "output_type": "execute_result"
    }
   ],
   "source": [
    "soup.find_all('h3', class_=re.compile('.+newsview$'))"
   ]
  },
  {
   "cell_type": "code",
   "execution_count": null,
   "metadata": {},
   "outputs": [],
   "source": []
  },
  {
   "cell_type": "markdown",
   "metadata": {},
   "source": [
    "- 댓글 개수 추출\n",
    "    - 댓글의 경우, 최초 로딩시에 전달되지 않음\n",
    "    - 이 경우는 추가적으로 AJAX로 비동기적 호출을 하여 따로 data 전송을 함\n",
    "        - 개발자 도구의 network 탭에서 확인(XHR:XmlHTTPRequest)\n",
    "        - 비동기적 호출 : 사이트의 전체가 아닌 일부분만 업데이트 가능하도록 함"
   ]
  },
  {
   "cell_type": "code",
   "execution_count": null,
   "metadata": {},
   "outputs": [],
   "source": []
  }
 ],
 "metadata": {
  "kernelspec": {
   "display_name": "Python 3",
   "language": "python",
   "name": "python3"
  },
  "language_info": {
   "codemirror_mode": {
    "name": "ipython",
    "version": 3
   },
   "file_extension": ".py",
   "mimetype": "text/x-python",
   "name": "python",
   "nbconvert_exporter": "python",
   "pygments_lexer": "ipython3",
   "version": "3.7.4"
  }
 },
 "nbformat": 4,
 "nbformat_minor": 2
}
